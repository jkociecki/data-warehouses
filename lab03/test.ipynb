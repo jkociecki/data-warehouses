{
 "cells": [
  {
   "cell_type": "code",
   "execution_count": 40,
   "metadata": {},
   "outputs": [
    {
     "data": {
      "text/plain": [
       "[1, 2, 3]"
      ]
     },
     "execution_count": 40,
     "metadata": {},
     "output_type": "execute_result"
    }
   ],
   "source": [
    "l = [[1,2,3],\n",
    "         [4,5,6],\n",
    "         [7,8,9]]\n",
    "\n",
    "\n",
    "x = [*l[0]]\n",
    "x"
   ]
  },
  {
   "cell_type": "code",
   "execution_count": 31,
   "metadata": {},
   "outputs": [
    {
     "name": "stdout",
     "output_type": "stream",
     "text": [
      "[1, 2, 3, 6, 9, 8, 7, 4, 5]\n",
      "[]\n"
     ]
    }
   ],
   "source": [
    "def snail(snail_map):\n",
    "    \n",
    "    res = []\n",
    "\n",
    "\n",
    "    while snail_map:\n",
    "\n",
    "        first_row = snail_map[0]\n",
    "        res += first_row\n",
    "        snail_map = snail_map[1:][:]\n",
    "        \n",
    "        if snail_map and snail_map[0]:\n",
    "            for row in snail_map:\n",
    "                res.append(row.pop())\n",
    "\n",
    "        if snail_map:\n",
    "            res += snail_map.pop()[::-1]\n",
    "\n",
    "        if snail_map and snail_map[0]:\n",
    "            for row in snail_map[::-1]:\n",
    "                res.append(row.pop(0))\n",
    "\n",
    "\n",
    "    print(res)\n",
    "    print(snail_map)\n",
    "\n",
    "snail(l)"
   ]
  },
  {
   "cell_type": "code",
   "execution_count": 63,
   "metadata": {},
   "outputs": [],
   "source": [
    "chessboard =   [[1,0,0,0,0,0,0,0],\n",
    "                [0,0,0,0,0,0,0,0],\n",
    "                [0,-1,0,0,1,0,0,0],\n",
    "                [0,0,0,0,0,0,0,0],\n",
    "                [0,0,0,0,0,0,0,0],\n",
    "                [0,0,0,-1,-1,0,0,0],\n",
    "                [0,0,0,0,0,0,0,0],\n",
    "                [0,0,0,0,0,0,0,0]]"
   ]
  },
  {
   "cell_type": "code",
   "execution_count": 91,
   "metadata": {},
   "outputs": [
    {
     "name": "stdout",
     "output_type": "stream",
     "text": [
      "42\n"
     ]
    }
   ],
   "source": [
    "def bishops_and_rooks(chessboard):\n",
    "\n",
    "    def check_direction(x, y, dx, dy, chessboard):\n",
    "        attacked_squares = []\n",
    "        size = len(chessboard)\n",
    "        \n",
    "        while 0 <= x + dx < size and 0 <= y + dy < size:\n",
    "            x, y = x + dx, y + dy\n",
    "            if chessboard[y][x] != 0:\n",
    "                break\n",
    "            attacked_squares.append((x, y))\n",
    "        \n",
    "        return attacked_squares\n",
    "    \n",
    "    attacked = set()\n",
    "    \n",
    "    for y in range(len(chessboard)):\n",
    "        for x in range(len(chessboard)):\n",
    "            if chessboard[y][x] == 1: \n",
    "                up = check_direction(x, y, 0, 1, chessboard)\n",
    "                down = check_direction(x, y, 0, -1, chessboard)\n",
    "                right = check_direction(x, y, 1, 0, chessboard)\n",
    "                left = check_direction(x, y, -1, 0, chessboard)\n",
    "                attacked.update(up + down + right + left)\n",
    "            \n",
    "            if chessboard[y][x] == -1:  # Bishop (goniec)\n",
    "                up_right = check_direction(x, y, 1, 1, chessboard)\n",
    "                up_left = check_direction(x, y, -1, 1, chessboard)\n",
    "                down_right = check_direction(x, y, 1, -1, chessboard)\n",
    "                down_left = check_direction(x, y, -1, -1, chessboard)\n",
    "                attacked.update(up_right + up_left + down_right + down_left)\n",
    "    \n",
    "    return 64 - len(attacked)  \n",
    "\n",
    "# Test\n",
    "chessboard = [\n",
    "    [0, 0, 0, 0, 1, 0, 0, 0],\n",
    "    [0, 0, 0, 0, 0, 0, 0, 0],\n",
    "    [0, 0, 0, 0, 0, 0, 0, 0],\n",
    "    [0, 0, 0, 0, 0, 0, 0, 0],\n",
    "    [0, 0, 0, 0, -1, 0, 0, 0],\n",
    "    [0, 0, 0, 0, 0, 0, 0, 0],\n",
    "    [0, 0, 0, 0, 0, 0, 0, 0],\n",
    "    [0, 0, 0, 0, 0, 0, 0, 0]\n",
    "]\n",
    "\n",
    "print(bishops_and_rooks(chessboard))  # Wynik: ilość pól nieatakowanych\n"
   ]
  },
  {
   "cell_type": "code",
   "execution_count": 22,
   "metadata": {},
   "outputs": [
    {
     "name": "stdout",
     "output_type": "stream",
     "text": [
      "114.38095238095238 [-1.44571429]\n"
     ]
    }
   ],
   "source": [
    "def regressionLine(x, y):\n",
    "    points = list(zip(x, y))\n",
    "\n",
    "    x_sq = sum(x[0]**2 for x in points)\n",
    "    x_sum = sum(x[0] for x in points)\n",
    "    y_sum = sum(x[1] for x in points)\n",
    "    xy = sum(x[0] * x[1] for x in points)\n",
    "\n",
    "    a = (x_sq * y_sum - x_sum * xy) / (len(x) * x_sq - x_sum**2)\n",
    "    b = (len(x)*xy - x_sum*y_sum) / (len(x) * x_sq - x_sum**2)\n",
    "\n",
    "    a = round(a, 3)\n",
    "    b = round(b, 3)\n",
    "    return(a,b)\n",
    "\n",
    "from sklearn import linear_model\n",
    "\n",
    "def regressionLine(x, y):\n",
    "    r = linear_model.LinearRegression()\n",
    "    r.fit( [[e] for e in x], y)\n",
    "    print(r.intercept_, r.coef_)\n",
    "\n",
    "regressionLine([25,30,35,40,45,50], [78,70,65,58,48,42])\n"
   ]
  },
  {
   "cell_type": "code",
   "execution_count": 3,
   "metadata": {},
   "outputs": [],
   "source": [
    "def is_solved(board):\n",
    "    def check_line(line):\n",
    "        nums = set(line)\n",
    "        if nums == {1}:\n",
    "            return 1\n",
    "        elif nums == {2}:\n",
    "            return 2\n",
    "        elif 0 in nums:\n",
    "            return -1\n",
    "        else:\n",
    "            return 0\n",
    "\n",
    "    are_empty = False\n",
    "\n",
    "    for row in board:\n",
    "        result = check_line(row)\n",
    "        if result in [1, 2]:\n",
    "            return result\n",
    "        if result == -1:\n",
    "            are_empty = True\n",
    "\n",
    "    for col in zip(*board):\n",
    "        result = check_line(col)\n",
    "        if result in [1, 2]:\n",
    "            return result\n",
    "        if result == -1:\n",
    "            are_empty = True\n",
    "\n",
    "    diag1 = [board[i][i] for i in range(3)]\n",
    "    diag2 = [board[i][2 - i] for i in range(3)]\n",
    "\n",
    "    for diag in [diag1, diag2]:\n",
    "        result = check_line(diag)\n",
    "        if result in [1, 2]:\n",
    "            return result\n",
    "        if result == -1:\n",
    "            are_empty = True\n",
    "\n",
    "    if are_empty:\n",
    "        return -1\n",
    "\n",
    "    return 0\n"
   ]
  }
 ],
 "metadata": {
  "kernelspec": {
   "display_name": "base",
   "language": "python",
   "name": "python3"
  },
  "language_info": {
   "codemirror_mode": {
    "name": "ipython",
    "version": 3
   },
   "file_extension": ".py",
   "mimetype": "text/x-python",
   "name": "python",
   "nbconvert_exporter": "python",
   "pygments_lexer": "ipython3",
   "version": "3.11.3"
  }
 },
 "nbformat": 4,
 "nbformat_minor": 2
}
